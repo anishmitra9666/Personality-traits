{
 "cells": [
  {
   "cell_type": "markdown",
   "id": "dfda2c6b",
   "metadata": {},
   "source": [
    "The data is the score of 104 humans across the big 5 psychology traits(extroversion, agreeableness, conscientiousness, \n",
    "emotional stability and intellect/imagination). The goal is to create a plot which shows information on both where people \n",
    "scored on the big have personality traits as well as how many people shared that score(duplicates). For this problem, I feel\n",
    "a bar chart is the most readable and gives off the most information."
   ]
  },
  {
   "cell_type": "code",
   "execution_count": 1,
   "id": "8b9a1e79",
   "metadata": {},
   "outputs": [],
   "source": [
    "#Importing pandas, numpy and pyplot\n",
    "import pandas as pd\n",
    "import numpy as np\n",
    "import matplotlib.pyplot as plt\n",
    "from matplotlib.pyplot import figure as fig"
   ]
  },
  {
   "cell_type": "code",
   "execution_count": 2,
   "id": "74e9c91d",
   "metadata": {},
   "outputs": [],
   "source": [
    "#Reading in the data\n",
    "df = pd.read_csv(\"characteristics .csv\")"
   ]
  },
  {
   "cell_type": "code",
   "execution_count": 3,
   "id": "1067e2ae",
   "metadata": {},
   "outputs": [
    {
     "data": {
      "text/html": [
       "<div>\n",
       "<style scoped>\n",
       "    .dataframe tbody tr th:only-of-type {\n",
       "        vertical-align: middle;\n",
       "    }\n",
       "\n",
       "    .dataframe tbody tr th {\n",
       "        vertical-align: top;\n",
       "    }\n",
       "\n",
       "    .dataframe thead th {\n",
       "        text-align: right;\n",
       "    }\n",
       "</style>\n",
       "<table border=\"1\" class=\"dataframe\">\n",
       "  <thead>\n",
       "    <tr style=\"text-align: right;\">\n",
       "      <th></th>\n",
       "      <th>Extroversion</th>\n",
       "      <th>Agreeableness</th>\n",
       "      <th>Conscientiousness</th>\n",
       "      <th>Emotional Stability</th>\n",
       "      <th>Intellect/Imagination</th>\n",
       "    </tr>\n",
       "  </thead>\n",
       "  <tbody>\n",
       "    <tr>\n",
       "      <th>0</th>\n",
       "      <td>41</td>\n",
       "      <td>56</td>\n",
       "      <td>62</td>\n",
       "      <td>7</td>\n",
       "      <td>23</td>\n",
       "    </tr>\n",
       "    <tr>\n",
       "      <th>1</th>\n",
       "      <td>29</td>\n",
       "      <td>89</td>\n",
       "      <td>46</td>\n",
       "      <td>22</td>\n",
       "      <td>23</td>\n",
       "    </tr>\n",
       "    <tr>\n",
       "      <th>2</th>\n",
       "      <td>11</td>\n",
       "      <td>76</td>\n",
       "      <td>98</td>\n",
       "      <td>89</td>\n",
       "      <td>34</td>\n",
       "    </tr>\n",
       "    <tr>\n",
       "      <th>3</th>\n",
       "      <td>33</td>\n",
       "      <td>67</td>\n",
       "      <td>95</td>\n",
       "      <td>57</td>\n",
       "      <td>14</td>\n",
       "    </tr>\n",
       "    <tr>\n",
       "      <th>4</th>\n",
       "      <td>29</td>\n",
       "      <td>62</td>\n",
       "      <td>87</td>\n",
       "      <td>78</td>\n",
       "      <td>59</td>\n",
       "    </tr>\n",
       "    <tr>\n",
       "      <th>...</th>\n",
       "      <td>...</td>\n",
       "      <td>...</td>\n",
       "      <td>...</td>\n",
       "      <td>...</td>\n",
       "      <td>...</td>\n",
       "    </tr>\n",
       "    <tr>\n",
       "      <th>99</th>\n",
       "      <td>45</td>\n",
       "      <td>76</td>\n",
       "      <td>72</td>\n",
       "      <td>39</td>\n",
       "      <td>46</td>\n",
       "    </tr>\n",
       "    <tr>\n",
       "      <th>100</th>\n",
       "      <td>19</td>\n",
       "      <td>30</td>\n",
       "      <td>89</td>\n",
       "      <td>99</td>\n",
       "      <td>76</td>\n",
       "    </tr>\n",
       "    <tr>\n",
       "      <th>101</th>\n",
       "      <td>19</td>\n",
       "      <td>25</td>\n",
       "      <td>84</td>\n",
       "      <td>34</td>\n",
       "      <td>4</td>\n",
       "    </tr>\n",
       "    <tr>\n",
       "      <th>102</th>\n",
       "      <td>70</td>\n",
       "      <td>91</td>\n",
       "      <td>89</td>\n",
       "      <td>89</td>\n",
       "      <td>52</td>\n",
       "    </tr>\n",
       "    <tr>\n",
       "      <th>103</th>\n",
       "      <td>67</td>\n",
       "      <td>71</td>\n",
       "      <td>67</td>\n",
       "      <td>98</td>\n",
       "      <td>11</td>\n",
       "    </tr>\n",
       "  </tbody>\n",
       "</table>\n",
       "<p>104 rows × 5 columns</p>\n",
       "</div>"
      ],
      "text/plain": [
       "     Extroversion  Agreeableness  Conscientiousness  Emotional Stability  \\\n",
       "0              41             56                 62                    7   \n",
       "1              29             89                 46                   22   \n",
       "2              11             76                 98                   89   \n",
       "3              33             67                 95                   57   \n",
       "4              29             62                 87                   78   \n",
       "..            ...            ...                ...                  ...   \n",
       "99             45             76                 72                   39   \n",
       "100            19             30                 89                   99   \n",
       "101            19             25                 84                   34   \n",
       "102            70             91                 89                   89   \n",
       "103            67             71                 67                   98   \n",
       "\n",
       "     Intellect/Imagination  \n",
       "0                       23  \n",
       "1                       23  \n",
       "2                       34  \n",
       "3                       14  \n",
       "4                       59  \n",
       "..                     ...  \n",
       "99                      46  \n",
       "100                     76  \n",
       "101                      4  \n",
       "102                     52  \n",
       "103                     11  \n",
       "\n",
       "[104 rows x 5 columns]"
      ]
     },
     "execution_count": 3,
     "metadata": {},
     "output_type": "execute_result"
    }
   ],
   "source": [
    "#Perusing data\n",
    "df.head(104)"
   ]
  },
  {
   "cell_type": "code",
   "execution_count": 4,
   "id": "48e8fa29",
   "metadata": {},
   "outputs": [],
   "source": [
    "#Creating tuples of each series\n",
    "dfextroversion = tuple(df[\"Extroversion\"].head(110).values)\n",
    "dfagreeableness = tuple(df[\"Agreeableness\"].head(110).values)\n",
    "dfconscientousness = tuple(df[\"Conscientiousness\"].head(110).values)\n",
    "dfemotionalstability = tuple(df[\"Emotional Stability\"].head(110).values)\n",
    "dfintellectimagination = tuple(df[\"Intellect/Imagination\"].head(110).values)"
   ]
  },
  {
   "cell_type": "code",
   "execution_count": 5,
   "id": "aec309b1",
   "metadata": {},
   "outputs": [],
   "source": [
    "#Creating a list of values to distinguish personality traits equal to size of tuple(1-extroversion,2-agreeableness etc).\n",
    "extroversionlist = []\n",
    "for x in range(104):\n",
    "    extroversionlist.append(1)\n",
    "agreeablenesslist = []\n",
    "for x in range(104):\n",
    "    agreeablenesslist.append(2)\n",
    "conscientousnesslist = []\n",
    "for x in range(104):\n",
    "    conscientousnesslist.append(3)\n",
    "emotionalstabilitylist = []\n",
    "for x in range(104):\n",
    "    emotionalstabilitylist.append(4)\n",
    "intellectimaginationlist = []\n",
    "for x in range(104):\n",
    "    intellectimaginationlist.append(5)"
   ]
  },
  {
   "cell_type": "code",
   "execution_count": 6,
   "id": "24eba3fa",
   "metadata": {},
   "outputs": [],
   "source": [
    "#Converting series dataframes to dictionaries\n",
    "extroversionduplicates = df[\"Extroversion\"].value_counts().to_dict()\n",
    "agreeablenessduplicates = df[\"Agreeableness\"].value_counts().to_dict()\n",
    "conscientousnessduplicates = df[\"Conscientiousness\"].value_counts().to_dict()\n",
    "emotionalstabilityduplicates = df[\"Emotional Stability\"].value_counts().to_dict()\n",
    "intellectimaginationduplicates = df[\"Intellect/Imagination\"].value_counts().to_dict()"
   ]
  },
  {
   "cell_type": "code",
   "execution_count": 7,
   "id": "1499bde9",
   "metadata": {},
   "outputs": [],
   "source": [
    "#Creating lists for plots\n",
    "xvalues = (extroversionlist, intellectimaginationlist, emotionalstabilitylist, conscientousnesslist, agreeablenesslist)\n",
    "yvalues = (dfextroversion, dfagreeableness, dfemotionalstability, dfconscientousness, dfintellectimagination)"
   ]
  },
  {
   "cell_type": "markdown",
   "id": "91420885",
   "metadata": {},
   "source": [
    "Making sure the length of each and every series is the same. They all have 104 values as there are 104 total people so the check is verified."
   ]
  },
  {
   "cell_type": "code",
   "execution_count": 8,
   "id": "e4b7d52e",
   "metadata": {},
   "outputs": [
    {
     "data": {
      "text/plain": [
       "104"
      ]
     },
     "execution_count": 8,
     "metadata": {},
     "output_type": "execute_result"
    }
   ],
   "source": [
    "len(extroversionlist)"
   ]
  },
  {
   "cell_type": "code",
   "execution_count": 9,
   "id": "2a8157bf",
   "metadata": {},
   "outputs": [
    {
     "data": {
      "text/plain": [
       "104"
      ]
     },
     "execution_count": 9,
     "metadata": {},
     "output_type": "execute_result"
    }
   ],
   "source": [
    "len(intellectimaginationlist)"
   ]
  },
  {
   "cell_type": "code",
   "execution_count": 10,
   "id": "d5b5c7b7",
   "metadata": {},
   "outputs": [
    {
     "data": {
      "text/plain": [
       "104"
      ]
     },
     "execution_count": 10,
     "metadata": {},
     "output_type": "execute_result"
    }
   ],
   "source": [
    "len(emotionalstabilitylist)"
   ]
  },
  {
   "cell_type": "code",
   "execution_count": 11,
   "id": "72f2ae5a",
   "metadata": {},
   "outputs": [
    {
     "data": {
      "text/plain": [
       "104"
      ]
     },
     "execution_count": 11,
     "metadata": {},
     "output_type": "execute_result"
    }
   ],
   "source": [
    "len(conscientousnesslist)"
   ]
  },
  {
   "cell_type": "code",
   "execution_count": 12,
   "id": "2f57c8b8",
   "metadata": {},
   "outputs": [
    {
     "data": {
      "text/plain": [
       "104"
      ]
     },
     "execution_count": 12,
     "metadata": {},
     "output_type": "execute_result"
    }
   ],
   "source": [
    "len(agreeablenesslist)"
   ]
  },
  {
   "cell_type": "code",
   "execution_count": 13,
   "id": "baee885e",
   "metadata": {},
   "outputs": [
    {
     "data": {
      "text/plain": [
       "104"
      ]
     },
     "execution_count": 13,
     "metadata": {},
     "output_type": "execute_result"
    }
   ],
   "source": [
    "len(dfextroversion)"
   ]
  },
  {
   "cell_type": "code",
   "execution_count": 14,
   "id": "651f7b35",
   "metadata": {},
   "outputs": [
    {
     "data": {
      "text/plain": [
       "104"
      ]
     },
     "execution_count": 14,
     "metadata": {},
     "output_type": "execute_result"
    }
   ],
   "source": [
    "len(dfagreeableness)"
   ]
  },
  {
   "cell_type": "code",
   "execution_count": 15,
   "id": "a1cc0cc3",
   "metadata": {},
   "outputs": [
    {
     "data": {
      "text/plain": [
       "104"
      ]
     },
     "execution_count": 15,
     "metadata": {},
     "output_type": "execute_result"
    }
   ],
   "source": [
    "len(dfconscientousness)"
   ]
  },
  {
   "cell_type": "code",
   "execution_count": 16,
   "id": "c0ea301a",
   "metadata": {},
   "outputs": [
    {
     "data": {
      "text/plain": [
       "104"
      ]
     },
     "execution_count": 16,
     "metadata": {},
     "output_type": "execute_result"
    }
   ],
   "source": [
    "len(dfemotionalstability)"
   ]
  },
  {
   "cell_type": "code",
   "execution_count": 17,
   "id": "b9a77b97",
   "metadata": {},
   "outputs": [
    {
     "data": {
      "text/plain": [
       "104"
      ]
     },
     "execution_count": 17,
     "metadata": {},
     "output_type": "execute_result"
    }
   ],
   "source": [
    "len(dfintellectimagination)"
   ]
  },
  {
   "cell_type": "markdown",
   "id": "31dacae7",
   "metadata": {},
   "source": [
    "Printing out the number of values at each level for each data point. Ex:- 67:11 means there are 11 people with an extroversion score of 67."
   ]
  },
  {
   "cell_type": "code",
   "execution_count": 18,
   "id": "63abca07",
   "metadata": {},
   "outputs": [
    {
     "data": {
      "text/plain": [
       "{67: 11,\n",
       " 11: 8,\n",
       " 58: 8,\n",
       " 29: 7,\n",
       " 41: 5,\n",
       " 63: 5,\n",
       " 70: 5,\n",
       " 37: 5,\n",
       " 22: 4,\n",
       " 74: 4,\n",
       " 45: 4,\n",
       " 25: 3,\n",
       " 4: 3,\n",
       " 95: 3,\n",
       " 33: 3,\n",
       " 54: 3,\n",
       " 6: 3,\n",
       " 19: 3,\n",
       " 78: 3,\n",
       " 83: 2,\n",
       " 7: 2,\n",
       " 13: 2,\n",
       " 50: 2,\n",
       " 16: 1,\n",
       " 93: 1,\n",
       " 98: 1,\n",
       " 1: 1,\n",
       " 86: 1,\n",
       " 88: 1}"
      ]
     },
     "execution_count": 18,
     "metadata": {},
     "output_type": "execute_result"
    }
   ],
   "source": [
    "extroversionduplicates"
   ]
  },
  {
   "cell_type": "code",
   "execution_count": 19,
   "id": "dfc4cee9",
   "metadata": {},
   "outputs": [
    {
     "data": {
      "text/plain": [
       "{67: 14,\n",
       " 62: 10,\n",
       " 56: 8,\n",
       " 89: 8,\n",
       " 76: 6,\n",
       " 71: 6,\n",
       " 25: 5,\n",
       " 51: 5,\n",
       " 30: 4,\n",
       " 21: 4,\n",
       " 83: 4,\n",
       " 87: 4,\n",
       " 45: 3,\n",
       " 17: 3,\n",
       " 80: 3,\n",
       " 40: 3,\n",
       " 35: 3,\n",
       " 95: 2,\n",
       " 11: 2,\n",
       " 93: 2,\n",
       " 91: 2,\n",
       " 14: 1,\n",
       " 4: 1,\n",
       " 5: 1}"
      ]
     },
     "execution_count": 19,
     "metadata": {},
     "output_type": "execute_result"
    }
   ],
   "source": [
    "agreeablenessduplicates"
   ]
  },
  {
   "cell_type": "code",
   "execution_count": 20,
   "id": "05b2c5d2",
   "metadata": {},
   "outputs": [
    {
     "data": {
      "text/plain": [
       "{95: 14,\n",
       " 93: 10,\n",
       " 98: 9,\n",
       " 97: 8,\n",
       " 87: 7,\n",
       " 96: 7,\n",
       " 84: 6,\n",
       " 89: 6,\n",
       " 67: 5,\n",
       " 80: 5,\n",
       " 76: 4,\n",
       " 92: 4,\n",
       " 52: 3,\n",
       " 18: 2,\n",
       " 41: 2,\n",
       " 62: 2,\n",
       " 72: 2,\n",
       " 36: 2,\n",
       " 57: 2,\n",
       " 46: 1,\n",
       " 12: 1,\n",
       " 26: 1,\n",
       " 9: 1}"
      ]
     },
     "execution_count": 20,
     "metadata": {},
     "output_type": "execute_result"
    }
   ],
   "source": [
    "conscientousnessduplicates"
   ]
  },
  {
   "cell_type": "code",
   "execution_count": 21,
   "id": "889c79d2",
   "metadata": {},
   "outputs": [
    {
     "data": {
      "text/plain": [
       "{74: 8,\n",
       " 78: 7,\n",
       " 70: 7,\n",
       " 34: 7,\n",
       " 48: 6,\n",
       " 89: 6,\n",
       " 57: 6,\n",
       " 84: 5,\n",
       " 93: 5,\n",
       " 66: 4,\n",
       " 96: 4,\n",
       " 39: 4,\n",
       " 98: 4,\n",
       " 62: 3,\n",
       " 87: 3,\n",
       " 94: 3,\n",
       " 52: 2,\n",
       " 30: 2,\n",
       " 7: 2,\n",
       " 22: 2,\n",
       " 43: 2,\n",
       " 91: 2,\n",
       " 19: 2,\n",
       " 97: 1,\n",
       " 16: 1,\n",
       " 9: 1,\n",
       " 11: 1,\n",
       " 5: 1,\n",
       " 26: 1,\n",
       " 81: 1,\n",
       " 99: 1}"
      ]
     },
     "execution_count": 21,
     "metadata": {},
     "output_type": "execute_result"
    }
   ],
   "source": [
    "emotionalstabilityduplicates"
   ]
  },
  {
   "cell_type": "code",
   "execution_count": 22,
   "id": "871a4499",
   "metadata": {},
   "outputs": [
    {
     "data": {
      "text/plain": [
       "{28: 10,\n",
       " 34: 10,\n",
       " 14: 9,\n",
       " 40: 9,\n",
       " 76: 9,\n",
       " 52: 8,\n",
       " 23: 6,\n",
       " 18: 4,\n",
       " 70: 4,\n",
       " 80: 4,\n",
       " 46: 4,\n",
       " 88: 3,\n",
       " 95: 3,\n",
       " 65: 3,\n",
       " 11: 3,\n",
       " 8: 3,\n",
       " 59: 3,\n",
       " 4: 2,\n",
       " 6: 2,\n",
       " 84: 2,\n",
       " 91: 2,\n",
       " 93: 1}"
      ]
     },
     "execution_count": 22,
     "metadata": {},
     "output_type": "execute_result"
    }
   ],
   "source": [
    "intellectimaginationduplicates"
   ]
  },
  {
   "cell_type": "code",
   "execution_count": 23,
   "id": "69300cda",
   "metadata": {},
   "outputs": [],
   "source": [
    "#Creating lists of duplicate values so that the final bar chart can accurately show the number of duplicates at each \n",
    "#level. There will be one less duplicate value than the total number of values at each level. Displaying the number of \n",
    "#duplicates is the best way to visualize this data as displaying all the values would make the final plot messy whereas \n",
    "#not displaying the number of duplicate values would hide a lot of useful information.\n",
    "#Extroversion\n",
    "extroversionduplicatevalues = []\n",
    "for x in extroversionduplicates.values():\n",
    "    numberofduplicates = x - 1\n",
    "    extroversionduplicatevalues.append(numberofduplicates)\n",
    "extroversionduplicatekeys = []\n",
    "for x in extroversionduplicates.keys():\n",
    "    extroversionduplicatekeys.append(x)\n",
    "extroversiondictionary = {extroversionduplicatekeys[i]: extroversionduplicatevalues[i] for i in range(len(extroversionduplicatevalues))}\n",
    "#Agreeableness\n",
    "agreeablenessduplicatevalues = []\n",
    "for x in agreeablenessduplicates.values():\n",
    "    numberofduplicates = x - 1\n",
    "    agreeablenessduplicatevalues.append(numberofduplicates)\n",
    "agreeablenessduplicatekeys = []\n",
    "for x in agreeablenessduplicates.keys():\n",
    "    agreeablenessduplicatekeys.append(x)\n",
    "agreeablenessdictionary = {agreeablenessduplicatekeys[i]: agreeablenessduplicatevalues[i] for i in range(len(agreeablenessduplicatevalues))}\n",
    "#Conscientousness\n",
    "conscientousnessduplicatevalues = []\n",
    "for x in conscientousnessduplicates.values():\n",
    "    numberofduplicates = x - 1\n",
    "    conscientousnessduplicatevalues.append(numberofduplicates)\n",
    "conscientousnessduplicatekeys = []\n",
    "for x in conscientousnessduplicates.keys():\n",
    "    conscientousnessduplicatekeys.append(x)\n",
    "conscientousnessdictionary = {conscientousnessduplicatekeys[i]: conscientousnessduplicatevalues[i] for i in range(len(conscientousnessduplicatevalues))}\n",
    "#Emotional Stability\n",
    "emotionalstabilityduplicatevalues = []\n",
    "for x in emotionalstabilityduplicates.values():\n",
    "    numberofduplicates = x - 1\n",
    "    emotionalstabilityduplicatevalues.append(numberofduplicates)\n",
    "emotionalstabilityduplicatekeys = []\n",
    "for x in emotionalstabilityduplicates.keys():\n",
    "    emotionalstabilityduplicatekeys.append(x)\n",
    "emotionalstabilitydictionary = {emotionalstabilityduplicatekeys[i]: emotionalstabilityduplicatevalues[i] for i in range(len(emotionalstabilityduplicatevalues))}\n",
    "#Intellect/Imagination\n",
    "intellectimaginationduplicatevalues = []\n",
    "for x in intellectimaginationduplicates.values():\n",
    "    numberofduplicates = x - 1\n",
    "    intellectimaginationduplicatevalues.append(numberofduplicates)\n",
    "intellectimaginationduplicatekeys = []\n",
    "for x in intellectimaginationduplicates.keys():\n",
    "    intellectimaginationduplicatekeys.append(x)\n",
    "intellectimaginationdictionary = {intellectimaginationduplicatekeys[i]: intellectimaginationduplicatevalues[i] for i in range(len(intellectimaginationduplicatevalues))}\n",
    "\n",
    "        \n",
    "\n",
    "        "
   ]
  },
  {
   "cell_type": "markdown",
   "id": "f5a3e6c8",
   "metadata": {},
   "source": [
    "Making dictionaries with the personality trait score as the key and the number of duplicates as the values."
   ]
  },
  {
   "cell_type": "code",
   "execution_count": 24,
   "id": "f4d28168",
   "metadata": {},
   "outputs": [
    {
     "data": {
      "text/plain": [
       "{67: 10,\n",
       " 11: 7,\n",
       " 58: 7,\n",
       " 29: 6,\n",
       " 41: 4,\n",
       " 63: 4,\n",
       " 70: 4,\n",
       " 37: 4,\n",
       " 22: 3,\n",
       " 74: 3,\n",
       " 45: 3,\n",
       " 25: 2,\n",
       " 4: 2,\n",
       " 95: 2,\n",
       " 33: 2,\n",
       " 54: 2,\n",
       " 6: 2,\n",
       " 19: 2,\n",
       " 78: 2,\n",
       " 83: 1,\n",
       " 7: 1,\n",
       " 13: 1,\n",
       " 50: 1,\n",
       " 16: 0,\n",
       " 93: 0,\n",
       " 98: 0,\n",
       " 1: 0,\n",
       " 86: 0,\n",
       " 88: 0}"
      ]
     },
     "execution_count": 24,
     "metadata": {},
     "output_type": "execute_result"
    }
   ],
   "source": [
    "#Perusing the number of duplicate values for each personality trait score.\n",
    "extroversiondictionary"
   ]
  },
  {
   "cell_type": "code",
   "execution_count": 25,
   "id": "9d26f766",
   "metadata": {},
   "outputs": [],
   "source": [
    "#Final dictionaries after dropping null values.\n",
    "extroversiondc = {extroversionduplicatekeys : extroversionduplicatevalues for extroversionduplicatekeys, extroversionduplicatevalues in extroversiondictionary.items() if extroversionduplicatevalues != 0}\n",
    "agreeablenessdc = {agreeablenessduplicatekeys : agreeablenessduplicatevalues for agreeablenessduplicatekeys, agreeablenessduplicatevalues in agreeablenessdictionary.items() if agreeablenessduplicatevalues != 0}\n",
    "conscientousnessdc = {conscientousnessduplicatekeys : conscientousnessduplicatevalues for conscientousnessduplicatekeys, conscientousnessduplicatevalues in conscientousnessdictionary.items() if conscientousnessduplicatevalues != 0}\n",
    "emotionalstabilitydc = {emotionalstabilityduplicatekeys : emotionalstabilityduplicatevalues for emotionalstabilityduplicatekeys, emotionalstabilityduplicatevalues in emotionalstabilitydictionary.items() if emotionalstabilityduplicatevalues != 0}\n",
    "intellectimaginationdc = {intellectimaginationduplicatekeys : intellectimaginationduplicatevalues for intellectimaginationduplicatekeys, intellectimaginationduplicatevalues in intellectimaginationdictionary.items() if intellectimaginationduplicatevalues != 0}"
   ]
  },
  {
   "cell_type": "code",
   "execution_count": 26,
   "id": "f7e133e8",
   "metadata": {},
   "outputs": [],
   "source": [
    "#Checking to see if the final dictionaries have null values and accurate number of duplicates. They did."
   ]
  },
  {
   "cell_type": "code",
   "execution_count": 27,
   "id": "9a76a26a",
   "metadata": {},
   "outputs": [
    {
     "data": {
      "text/plain": [
       "{67: 10,\n",
       " 11: 7,\n",
       " 58: 7,\n",
       " 29: 6,\n",
       " 41: 4,\n",
       " 63: 4,\n",
       " 70: 4,\n",
       " 37: 4,\n",
       " 22: 3,\n",
       " 74: 3,\n",
       " 45: 3,\n",
       " 25: 2,\n",
       " 4: 2,\n",
       " 95: 2,\n",
       " 33: 2,\n",
       " 54: 2,\n",
       " 6: 2,\n",
       " 19: 2,\n",
       " 78: 2,\n",
       " 83: 1,\n",
       " 7: 1,\n",
       " 13: 1,\n",
       " 50: 1}"
      ]
     },
     "execution_count": 27,
     "metadata": {},
     "output_type": "execute_result"
    }
   ],
   "source": [
    "extroversiondc"
   ]
  },
  {
   "cell_type": "code",
   "execution_count": 28,
   "id": "88eed80e",
   "metadata": {},
   "outputs": [
    {
     "data": {
      "text/plain": [
       "{67: 13,\n",
       " 62: 9,\n",
       " 56: 7,\n",
       " 89: 7,\n",
       " 76: 5,\n",
       " 71: 5,\n",
       " 25: 4,\n",
       " 51: 4,\n",
       " 30: 3,\n",
       " 21: 3,\n",
       " 83: 3,\n",
       " 87: 3,\n",
       " 45: 2,\n",
       " 17: 2,\n",
       " 80: 2,\n",
       " 40: 2,\n",
       " 35: 2,\n",
       " 95: 1,\n",
       " 11: 1,\n",
       " 93: 1,\n",
       " 91: 1}"
      ]
     },
     "execution_count": 28,
     "metadata": {},
     "output_type": "execute_result"
    }
   ],
   "source": [
    "agreeablenessdc"
   ]
  },
  {
   "cell_type": "code",
   "execution_count": 29,
   "id": "5ca7c5c6",
   "metadata": {},
   "outputs": [
    {
     "data": {
      "text/plain": [
       "{95: 13,\n",
       " 93: 9,\n",
       " 98: 8,\n",
       " 97: 7,\n",
       " 87: 6,\n",
       " 96: 6,\n",
       " 84: 5,\n",
       " 89: 5,\n",
       " 67: 4,\n",
       " 80: 4,\n",
       " 76: 3,\n",
       " 92: 3,\n",
       " 52: 2,\n",
       " 18: 1,\n",
       " 41: 1,\n",
       " 62: 1,\n",
       " 72: 1,\n",
       " 36: 1,\n",
       " 57: 1}"
      ]
     },
     "execution_count": 29,
     "metadata": {},
     "output_type": "execute_result"
    }
   ],
   "source": [
    "conscientousnessdc"
   ]
  },
  {
   "cell_type": "code",
   "execution_count": 30,
   "id": "231df5d4",
   "metadata": {},
   "outputs": [
    {
     "data": {
      "text/plain": [
       "{74: 7,\n",
       " 78: 6,\n",
       " 70: 6,\n",
       " 34: 6,\n",
       " 48: 5,\n",
       " 89: 5,\n",
       " 57: 5,\n",
       " 84: 4,\n",
       " 93: 4,\n",
       " 66: 3,\n",
       " 96: 3,\n",
       " 39: 3,\n",
       " 98: 3,\n",
       " 62: 2,\n",
       " 87: 2,\n",
       " 94: 2,\n",
       " 52: 1,\n",
       " 30: 1,\n",
       " 7: 1,\n",
       " 22: 1,\n",
       " 43: 1,\n",
       " 91: 1,\n",
       " 19: 1}"
      ]
     },
     "execution_count": 30,
     "metadata": {},
     "output_type": "execute_result"
    }
   ],
   "source": [
    "emotionalstabilitydc"
   ]
  },
  {
   "cell_type": "code",
   "execution_count": 31,
   "id": "512b6713",
   "metadata": {},
   "outputs": [
    {
     "data": {
      "text/plain": [
       "{28: 9,\n",
       " 34: 9,\n",
       " 14: 8,\n",
       " 40: 8,\n",
       " 76: 8,\n",
       " 52: 7,\n",
       " 23: 5,\n",
       " 18: 3,\n",
       " 70: 3,\n",
       " 80: 3,\n",
       " 46: 3,\n",
       " 88: 2,\n",
       " 95: 2,\n",
       " 65: 2,\n",
       " 11: 2,\n",
       " 8: 2,\n",
       " 59: 2,\n",
       " 4: 1,\n",
       " 6: 1,\n",
       " 84: 1,\n",
       " 91: 1}"
      ]
     },
     "execution_count": 31,
     "metadata": {},
     "output_type": "execute_result"
    }
   ],
   "source": [
    "intellectimaginationdc"
   ]
  },
  {
   "cell_type": "code",
   "execution_count": 32,
   "id": "ca787729",
   "metadata": {},
   "outputs": [
    {
     "name": "stderr",
     "output_type": "stream",
     "text": [
      "C:\\Users\\gbore\\AppData\\Local\\Temp/ipykernel_22536/3721669129.py:9: UserWarning: FixedFormatter should only be used together with FixedLocator\n",
      "  ax.set_xticklabels(labels)\n"
     ]
    },
    {
     "data": {
      "image/png": "[encoded data removed]",
      "text/plain": [
       "<Figure size 1152x1152 with 1 Axes>"
      ]
     },
     "metadata": {
      "needs_background": "light"
     },
     "output_type": "display_data"
    }
   ],
   "source": [
    "#Final plot\n",
    "plt.figure(figsize=(16,16))\n",
    "plt.scatter(xvalues,yvalues,c=xvalues)\n",
    "plt.title(\"Big 5 personality traits\", size =30)\n",
    "plt.xlabel(\"Personality trait name\", size =18)\n",
    "plt.ylabel(\"Personality trait score\", size =18)\n",
    "labels = [\"\", \"Extroversion\", \"\", \"Agreeableness\", \"\", \"Conscientiousness\", \"\", \"Emotional Stability\", \"\", \"Intellect/Imagination\"]\n",
    "ax = plt.gca()\n",
    "ax.set_xticklabels(labels)\n",
    "for i in extroversiondc:\n",
    "    plt.text(x = 1.05, y = i, s = str(extroversiondc[i]),\n",
    "    fontdict=dict(color='black', alpha=0.5, size=16))\n",
    "for i in agreeablenessdc:\n",
    "    plt.text(x = 2.05, y = i, s = str(agreeablenessdc[i]),\n",
    "    fontdict=dict(color='black', alpha=0.5, size=16))\n",
    "for i in conscientousnessdc:\n",
    "    plt.text(x = 3.05, y = i, s = str(conscientousnessdc[i]),\n",
    "    fontdict=dict(color='black', alpha=0.5, size=16))\n",
    "for i in emotionalstabilitydc:\n",
    "    plt.text(x = 4.05, y = i, s = str(emotionalstabilitydc[i]),\n",
    "    fontdict=dict(color='black', alpha=0.5, size=16))\n",
    "for i in intellectimaginationdc:\n",
    "    plt.text(x = 5.05, y = i, s = str(intellectimaginationdc[i]),\n",
    "    fontdict=dict(color='black', alpha=0.5, size=16))\n",
    "plt.show()"
   ]
  },
  {
   "cell_type": "code",
   "execution_count": 38,
   "id": "a7b0cdc3",
   "metadata": {},
   "outputs": [
    {
     "name": "stdout",
     "output_type": "stream",
     "text": [
      "Summary Statistics for agreeablenesscount    104.000000\n",
      "mean      58.826923\n",
      "std       24.350372\n",
      "min        4.000000\n",
      "25%       40.000000\n",
      "50%       62.000000\n",
      "75%       76.000000\n",
      "max       95.000000\n",
      "dtype: float64\n",
      "Summary Statistics for agreeablenesscount    104.000000\n",
      "mean      45.586538\n",
      "std       26.416239\n",
      "min        1.000000\n",
      "25%       22.000000\n",
      "50%       45.000000\n",
      "75%       67.000000\n",
      "max       98.000000\n",
      "dtype: float64\n",
      "Summary Statistics for agreeablenesscount    104.000000\n",
      "mean      81.394231\n",
      "std       21.268701\n",
      "min        9.000000\n",
      "25%       76.000000\n",
      "50%       90.500000\n",
      "75%       95.000000\n",
      "max       98.000000\n",
      "dtype: float64\n",
      "Summary Statistics for agreeablenesscount    104.000000\n",
      "mean      64.538462\n",
      "std       26.198615\n",
      "min        5.000000\n",
      "25%       46.750000\n",
      "50%       70.000000\n",
      "75%       87.500000\n",
      "max       99.000000\n",
      "dtype: float64\n",
      "Summary Statistics for agreeablenesscount    104.000000\n",
      "mean      44.625000\n",
      "std       26.734287\n",
      "min        4.000000\n",
      "25%       23.000000\n",
      "50%       40.000000\n",
      "75%       70.000000\n",
      "max       95.000000\n",
      "dtype: float64\n"
     ]
    }
   ],
   "source": [
    "print('Summary Statistics for agreeableness' + str(pd.Series(dfagreeableness).describe()))\n",
    "print('Summary Statistics for agreeableness' + str(pd.Series(dfextroversion).describe()))\n",
    "print('Summary Statistics for agreeableness' + str(pd.Series(dfconscientousness).describe()))\n",
    "print('Summary Statistics for agreeableness' + str(pd.Series(dfemotionalstability).describe()))\n",
    "print('Summary Statistics for agreeableness' + str(pd.Series(dfintellectimagination).describe()))"
   ]
  },
  {
   "cell_type": "code",
   "execution_count": null,
   "id": "dcd55f71",
   "metadata": {},
   "outputs": [],
   "source": []
  }
 ],
 "metadata": {
  "kernelspec": {
   "display_name": "Python 3 (ipykernel)",
   "language": "python",
   "name": "python3"
  },
  "language_info": {
   "codemirror_mode": {
    "name": "ipython",
    "version": 3
   },
   "file_extension": ".py",
   "mimetype": "text/x-python",
   "name": "python",
   "nbconvert_exporter": "python",
   "pygments_lexer": "ipython3",
   "version": "3.9.7"
  }
 },
 "nbformat": 4,
 "nbformat_minor": 5
}
